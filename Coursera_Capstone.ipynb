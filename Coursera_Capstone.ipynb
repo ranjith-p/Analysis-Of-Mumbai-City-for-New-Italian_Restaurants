{
  "nbformat": 4,
  "nbformat_minor": 0,
  "metadata": {
    "colab": {
      "name": "Coursera_Capstone.ipynb",
      "provenance": [],
      "authorship_tag": "ABX9TyOPCuvbk4OF6HuyRRfI4wJq"
    },
    "kernelspec": {
      "name": "python3",
      "display_name": "Python 3"
    }
  },
  "cells": [
    {
      "cell_type": "markdown",
      "metadata": {
        "id": "soVNu0d7JBTd"
      },
      "source": [
        "#This Notebook will be used for Capstone Project"
      ]
    },
    {
      "cell_type": "code",
      "metadata": {
        "id": "HHlgsiONG-V0"
      },
      "source": [
        "import pandas as pd\r\n",
        "import numpy as np"
      ],
      "execution_count": 2,
      "outputs": []
    },
    {
      "cell_type": "code",
      "metadata": {
        "colab": {
          "base_uri": "https://localhost:8080/"
        },
        "id": "h4XLVCT7HZ4A",
        "outputId": "467659a9-2f36-4bea-b2be-25dcb5c3454d"
      },
      "source": [
        "print('Hello Capstone Project Course!')"
      ],
      "execution_count": 3,
      "outputs": [
        {
          "output_type": "stream",
          "text": [
            "Hello Capstone Project Course!\n"
          ],
          "name": "stdout"
        }
      ]
    }
  ]
}